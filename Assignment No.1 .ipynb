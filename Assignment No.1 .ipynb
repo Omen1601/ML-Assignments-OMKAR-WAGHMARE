{
 "cells": [
  {
   "cell_type": "markdown",
   "id": "92630324",
   "metadata": {},
   "source": [
    "Exercise 1: Print First 10 natural numbers using while loop"
   ]
  },
  {
   "cell_type": "code",
   "execution_count": 24,
   "id": "479b5615",
   "metadata": {},
   "outputs": [
    {
     "name": "stdout",
     "output_type": "stream",
     "text": [
      "1\n",
      "2\n",
      "3\n",
      "4\n",
      "5\n",
      "6\n",
      "7\n",
      "8\n",
      "9\n",
      "10\n"
     ]
    }
   ],
   "source": [
    "i=1\n",
    "while(i<=10):\n",
    "    print(i)\n",
    "    i=i+1"
   ]
  },
  {
   "cell_type": "markdown",
   "id": "be8a6a45",
   "metadata": {},
   "source": [
    "Exercise 2: Print the following pattern:  1111\n",
    "                                           111\n",
    "                                            11\n",
    "                                             1"
   ]
  },
  {
   "cell_type": "code",
   "execution_count": 25,
   "id": "a06bb299",
   "metadata": {},
   "outputs": [
    {
     "name": "stdout",
     "output_type": "stream",
     "text": [
      "1111\n",
      " 111\n",
      "  11\n",
      "   1\n"
     ]
    }
   ],
   "source": [
    "for i in range(4,0,-1):\n",
    "    print(\" \" *(4-i), end=\"\")\n",
    "    print(\"1\" *i)"
   ]
  },
  {
   "cell_type": "markdown",
   "id": "423670e1",
   "metadata": {},
   "source": [
    "Exercise 3: Calculate the sum of all numbers from 1 to a given number"
   ]
  },
  {
   "cell_type": "code",
   "execution_count": 26,
   "id": "f911190f",
   "metadata": {},
   "outputs": [
    {
     "name": "stdout",
     "output_type": "stream",
     "text": [
      "Enter The Number: 5\n",
      "15\n"
     ]
    }
   ],
   "source": [
    "num = int(input(\"Enter The Number: \"))\n",
    "sum=0\n",
    "for i in range(1,num+1):\n",
    "    sum=sum+i\n",
    "print(sum)"
   ]
  },
  {
   "cell_type": "markdown",
   "id": "91551c51",
   "metadata": {},
   "source": [
    "Exercise 4: Write a program to print multiplication table of a given number"
   ]
  },
  {
   "cell_type": "code",
   "execution_count": 27,
   "id": "2daebc93",
   "metadata": {},
   "outputs": [
    {
     "name": "stdout",
     "output_type": "stream",
     "text": [
      "Enter The Number: 5\n",
      "5 * 1 = 5\n",
      "5 * 2 = 10\n",
      "5 * 3 = 15\n",
      "5 * 4 = 20\n",
      "5 * 5 = 25\n",
      "5 * 6 = 30\n",
      "5 * 7 = 35\n",
      "5 * 8 = 40\n",
      "5 * 9 = 45\n",
      "5 * 10 = 50\n"
     ]
    }
   ],
   "source": [
    "num = int(input(\"Enter The Number: \"))\n",
    "for i in range(1,11):\n",
    "    print(num,'*',i,'=',num*i)"
   ]
  },
  {
   "cell_type": "markdown",
   "id": "3aa49ffb",
   "metadata": {},
   "source": [
    "Exercise 6: Count the total number of digits in a number"
   ]
  },
  {
   "cell_type": "code",
   "execution_count": 33,
   "id": "7697fb50",
   "metadata": {},
   "outputs": [
    {
     "name": "stdout",
     "output_type": "stream",
     "text": [
      "Enter The Number: 12345\n",
      "Total Number of Digit is:  5\n"
     ]
    }
   ],
   "source": [
    "num = int(input(\"Enter The Number: \"))\n",
    "count = 0\n",
    "while num != 0:\n",
    "    num //= 10\n",
    "    count = count + 1\n",
    "print(\"Total Number of Digit is: \",count)"
   ]
  },
  {
   "cell_type": "markdown",
   "id": "dea623f6",
   "metadata": {},
   "source": [
    "Exercise 7: Print the following pattern : Diamond shape"
   ]
  },
  {
   "cell_type": "code",
   "execution_count": 1,
   "id": "827f5959",
   "metadata": {},
   "outputs": [
    {
     "name": "stdout",
     "output_type": "stream",
     "text": [
      "    *\n",
      "   ***\n",
      "  *****\n",
      " *******\n",
      "*********\n",
      " *******\n",
      "  *****\n",
      "   ***\n",
      "    *\n"
     ]
    }
   ],
   "source": [
    "height = 5 #int(input(\"Enter The Hight: \"))\n",
    "for i in range(height):\n",
    "    print(\" \" * (height-i-1)+ \"*\" * (2*i+1))\n",
    "for i in range(height-2,-1,-1):\n",
    "    print(\" \" * (height-i-1)+ \"*\" * (2*i+1))"
   ]
  },
  {
   "cell_type": "markdown",
   "id": "4940fd2d",
   "metadata": {},
   "source": [
    "Exercise 8: Print list in reverse order using a loop"
   ]
  },
  {
   "cell_type": "code",
   "execution_count": 39,
   "id": "8e0f0389",
   "metadata": {},
   "outputs": [
    {
     "name": "stdout",
     "output_type": "stream",
     "text": [
      "[5, 4, 3, 2, 1]\n"
     ]
    }
   ],
   "source": [
    "my_list=[1,2,3,4,5]\n",
    "new_list=[]\n",
    "for i in range(len(my_list)):\n",
    "    new_list.insert(i,my_list[-1])\n",
    "    my_list.pop(-1)\n",
    "print(new_list)"
   ]
  },
  {
   "cell_type": "markdown",
   "id": "77c636c4",
   "metadata": {},
   "source": [
    "Exercise 9: Display numbers from -10 to -1 using for loop"
   ]
  },
  {
   "cell_type": "code",
   "execution_count": 40,
   "id": "11e20d7e",
   "metadata": {},
   "outputs": [
    {
     "name": "stdout",
     "output_type": "stream",
     "text": [
      "-10\n",
      "-9\n",
      "-8\n",
      "-7\n",
      "-6\n",
      "-5\n",
      "-4\n",
      "-3\n",
      "-2\n",
      "-1\n"
     ]
    }
   ],
   "source": [
    "for i in range(-10,0):\n",
    "    print(i)"
   ]
  },
  {
   "cell_type": "markdown",
   "id": "05ad1653",
   "metadata": {},
   "source": [
    "Exercise 10: Use else block to display a message “Done” after successful execution of for loop"
   ]
  },
  {
   "cell_type": "code",
   "execution_count": 42,
   "id": "d97fee6e",
   "metadata": {},
   "outputs": [
    {
     "name": "stdout",
     "output_type": "stream",
     "text": [
      "0\n",
      "1\n",
      "2\n",
      "3\n",
      "4\n",
      "Done!\n"
     ]
    }
   ],
   "source": [
    "for i in range(5):\n",
    "    print(i)\n",
    "else:\n",
    "    print(\"Done!\")"
   ]
  },
  {
   "cell_type": "markdown",
   "id": "e3b03a9c",
   "metadata": {},
   "source": [
    "Exercise 11: Write a program to display all prime numbers within a range"
   ]
  },
  {
   "cell_type": "code",
   "execution_count": 49,
   "id": "e59928a9",
   "metadata": {},
   "outputs": [
    {
     "name": "stdout",
     "output_type": "stream",
     "text": [
      "Prime Number Between 10 and 100 are:\n",
      "11\n",
      "13\n",
      "17\n",
      "19\n",
      "23\n",
      "29\n",
      "31\n",
      "37\n",
      "41\n",
      "43\n",
      "47\n",
      "53\n",
      "59\n",
      "61\n",
      "67\n",
      "71\n",
      "73\n",
      "79\n",
      "83\n",
      "89\n",
      "97\n"
     ]
    }
   ],
   "source": [
    "lower = 10\n",
    "upper = 100\n",
    "print(\"Prime Number Between\",lower,\"and\",upper,\"are:\")\n",
    "for num in range(lower,upper+1):\n",
    "    if num > 1:\n",
    "        for i in range(2,num):\n",
    "            if(num % i) == 0:\n",
    "                break\n",
    "        else:\n",
    "            print(num)"
   ]
  },
  {
   "cell_type": "markdown",
   "id": "da874606",
   "metadata": {},
   "source": [
    "Exercise 12: Display Fibonacci series up to 10 terms"
   ]
  },
  {
   "cell_type": "code",
   "execution_count": 60,
   "id": "63ce2382",
   "metadata": {},
   "outputs": [
    {
     "name": "stdout",
     "output_type": "stream",
     "text": [
      "Enter Number: 10\n",
      "Fibonacci sequence:\n",
      "0\n",
      "1\n",
      "1\n",
      "2\n",
      "3\n",
      "5\n",
      "8\n",
      "13\n",
      "21\n",
      "34\n"
     ]
    }
   ],
   "source": [
    "nums = int(input(\"Enter Number: \"))\n",
    "n1, n2 = 0, 1\n",
    "count = 0\n",
    "\n",
    "if nums <= 0:\n",
    "    print(\"Please enter a positive integer\")\n",
    "else:\n",
    "    print(\"Fibonacci sequence:\")\n",
    "    \n",
    "    while count < nums:\n",
    "        print(n1)\n",
    "        nth = n1 + n2\n",
    "        n1 = n2\n",
    "        n2 = nth\n",
    "        count += 1"
   ]
  },
  {
   "cell_type": "markdown",
   "id": "82ca94e6",
   "metadata": {},
   "source": [
    "Exercise 13: Find the factorial of a given number"
   ]
  },
  {
   "cell_type": "code",
   "execution_count": 63,
   "id": "2a230e6b",
   "metadata": {},
   "outputs": [
    {
     "name": "stdout",
     "output_type": "stream",
     "text": [
      "Enter the number: 15\n",
      "The factorial of 15 is 1307674368000\n"
     ]
    }
   ],
   "source": [
    "num = int(input(\"Enter the number: \"))\n",
    "fact = 1\n",
    "\n",
    "if num < 0:\n",
    "    print(\"Sorry, Plz Enter Positive Number\")\n",
    "elif num == 0:\n",
    "    print(\"The factorial of 0 is 1\")\n",
    "else:\n",
    "    for i in range(1, num + 1):\n",
    "        fact *= i\n",
    "\n",
    "print(\"The factorial of\", num, \"is\", fact)"
   ]
  },
  {
   "cell_type": "markdown",
   "id": "117ea03d",
   "metadata": {},
   "source": [
    "Exercise 14: Reverse a given integer number"
   ]
  },
  {
   "cell_type": "code",
   "execution_count": 64,
   "id": "e1e7a9bf",
   "metadata": {},
   "outputs": [
    {
     "name": "stdout",
     "output_type": "stream",
     "text": [
      "Enter the number: 12345\n",
      "Reversed number: 54321\n"
     ]
    }
   ],
   "source": [
    "num = int(input(\"Enter the number: \"))\n",
    "reversed_num = 0\n",
    "\n",
    "while num != 0:\n",
    "    digit = num % 10\n",
    "    reversed_num = reversed_num * 10 + digit\n",
    "    num //= 10\n",
    "\n",
    "print(\"Reversed number:\", reversed_num)"
   ]
  },
  {
   "cell_type": "markdown",
   "id": "3563f09e",
   "metadata": {},
   "source": [
    "Exercise 15: Use a loop to display elements from a given list present at odd index positions"
   ]
  },
  {
   "cell_type": "code",
   "execution_count": 65,
   "id": "487c1e70",
   "metadata": {},
   "outputs": [
    {
     "name": "stdout",
     "output_type": "stream",
     "text": [
      "[2, 4, 6]\n"
     ]
    }
   ],
   "source": [
    "my_list = [1, 2, 3, 4, 5, 6, 7]\n",
    "odd_elements = my_list[1::2]\n",
    "print(odd_elements)"
   ]
  },
  {
   "cell_type": "markdown",
   "id": "86fc2521",
   "metadata": {},
   "source": [
    "Exercise 16: Calculate the cube of all numbers from 1 to a given number"
   ]
  },
  {
   "cell_type": "code",
   "execution_count": 68,
   "id": "e8703d94",
   "metadata": {},
   "outputs": [
    {
     "name": "stdout",
     "output_type": "stream",
     "text": [
      "Enter the number: 5\n",
      "The cube of 1 is 1\n",
      "The cube of 2 is 8\n",
      "The cube of 3 is 27\n",
      "The cube of 4 is 64\n",
      "The cube of 5 is 125\n"
     ]
    }
   ],
   "source": [
    "num = int(input(\"Enter the number: \"))\n",
    "\n",
    "for i in range(1, num + 1):\n",
    "    cube = i ** 3\n",
    "    print(f\"The cube of {i} is {cube}\")"
   ]
  },
  {
   "cell_type": "markdown",
   "id": "7807d22b",
   "metadata": {},
   "source": [
    "Exercise 17: Find the sum of the series upto n terms"
   ]
  },
  {
   "cell_type": "code",
   "execution_count": 71,
   "id": "2f2bdd36",
   "metadata": {},
   "outputs": [
    {
     "name": "stdout",
     "output_type": "stream",
     "text": [
      "Enter the number of terms: 5\n",
      "The sum of the series is 12345\n"
     ]
    }
   ],
   "source": [
    "n = int(input(\"Enter the number of terms: \"))\n",
    "sum = 0\n",
    "j = 1\n",
    "\n",
    "for i in range(1, n + 1):\n",
    "    sum = sum + j\n",
    "    j = (j * 10) + 1\n",
    "\n",
    "print(\"The sum of the series is\", sum)"
   ]
  }
 ],
 "metadata": {
  "kernelspec": {
   "display_name": "Python 3 (ipykernel)",
   "language": "python",
   "name": "python3"
  },
  "language_info": {
   "codemirror_mode": {
    "name": "ipython",
    "version": 3
   },
   "file_extension": ".py",
   "mimetype": "text/x-python",
   "name": "python",
   "nbconvert_exporter": "python",
   "pygments_lexer": "ipython3",
   "version": "3.9.13"
  }
 },
 "nbformat": 4,
 "nbformat_minor": 5
}
