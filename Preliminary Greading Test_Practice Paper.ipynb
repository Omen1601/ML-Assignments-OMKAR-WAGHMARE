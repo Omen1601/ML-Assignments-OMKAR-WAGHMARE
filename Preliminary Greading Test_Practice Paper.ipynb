{
 "cells": [
  {
   "cell_type": "markdown",
   "id": "ba636727",
   "metadata": {},
   "source": [
    "**1.Given an integer, n, perform the following conditional actions:**\n",
    "\n",
    "    •If  n is odd, print Weird \n",
    "    •If n is even and in the inclusive range of 2 to 5, print Not Weird\n",
    "    •If n is even and in the inclusive range of 6 to 20, print Weird\n",
    "    •If n is even greater than 20, print Not Weird"
   ]
  },
  {
   "cell_type": "code",
   "execution_count": 2,
   "id": "6df7efb2",
   "metadata": {},
   "outputs": [
    {
     "name": "stdout",
     "output_type": "stream",
     "text": [
      "Enter an integer: 3\n",
      "Weird\n"
     ]
    }
   ],
   "source": [
    "def num(n):\n",
    "    if n % 2 == 1:\n",
    "        print(\"Weird\")\n",
    "    elif n % 2 == 0 and 2 <= n <= 5:\n",
    "        print(\"Not Weird\")\n",
    "    elif n % 2 == 0 and 6 <= n <= 20:\n",
    "        print(\"Weird\")\n",
    "    elif n % 2 == 0 and n > 20:\n",
    "        print(\"Not Weird\")\n",
    "n = int(input(\"Enter an integer: \"))\n",
    "num(n)\n"
   ]
  },
  {
   "cell_type": "markdown",
   "id": "cc6de452",
   "metadata": {},
   "source": [
    "**2.The list of non-negative integers that are less than n = 3 is [ 0, 1, 2 ]. Print the square of each number on a separate line**"
   ]
  },
  {
   "cell_type": "code",
   "execution_count": 4,
   "id": "fcbba80e",
   "metadata": {},
   "outputs": [
    {
     "name": "stdout",
     "output_type": "stream",
     "text": [
      "0\n",
      "1\n",
      "4\n"
     ]
    }
   ],
   "source": [
    "n = 3\n",
    "for i in range(n):\n",
    "    print(i ** 2)"
   ]
  },
  {
   "cell_type": "markdown",
   "id": "1a65aa3e",
   "metadata": {},
   "source": [
    "**3.You are given three integers x, y and z representing the dimensions of a cuboid along with an integer n. Print a list of all possible coordinates given by (i, j, k) on a 3D grid where the sum of i + j + k is not equal to n. Here, 0 <= i <= x; 0 <= j <= y; 0 <= k <= z. Please use list comprehensions rather than multiple loops, as a learning exercise**"
   ]
  },
  {
   "cell_type": "code",
   "execution_count": 8,
   "id": "34180446",
   "metadata": {},
   "outputs": [
    {
     "name": "stdout",
     "output_type": "stream",
     "text": [
      "Enter values for x, y, z, and n  (USE-space-separated): 1 2 3 5\n",
      "[(0, 0, 0), (0, 0, 1), (0, 0, 2), (0, 0, 3), (0, 1, 0), (0, 1, 1), (0, 1, 2), (0, 1, 3), (0, 2, 0), (0, 2, 1), (0, 2, 2), (1, 0, 0), (1, 0, 1), (1, 0, 2), (1, 0, 3), (1, 1, 0), (1, 1, 1), (1, 1, 2), (1, 2, 0), (1, 2, 1), (1, 2, 3)]\n"
     ]
    }
   ],
   "source": [
    "x, y, z, n = map(int, input(\"Enter values for x, y, z, and n  (USE-space-separated): \").split())\n",
    "Dimensions = [(i, j, k) for i in range(x + 1) for j in range(y + 1) for k in range(z + 1) if i + j + k != n]\n",
    "print(Dimensions)"
   ]
  },
  {
   "cell_type": "markdown",
   "id": "41b14ce7",
   "metadata": {},
   "source": [
    "**4.Given the participants’ score sheet for your University Sports Day, you are required to find the runner-up score. You are given n scores. Store them in a list and find the score of the runner-up**\n",
    "        Given list is [2, 3, 6, 6, 5]"
   ]
  },
  {
   "cell_type": "code",
   "execution_count": 10,
   "id": "08dba5d0",
   "metadata": {},
   "outputs": [
    {
     "name": "stdout",
     "output_type": "stream",
     "text": [
      "The Runner up score is: 5\n"
     ]
    }
   ],
   "source": [
    "scores_list = [2, 3, 6, 6, 5]\n",
    "unique_scores = sorted(set(scores_list), reverse=True)\n",
    "runner_up = unique_scores[1]\n",
    "print(\"The Runner up score is:\", runner_up)"
   ]
  },
  {
   "cell_type": "markdown",
   "id": "768c4302",
   "metadata": {},
   "source": [
    "**5.The provided code stub read in a dictionary containing key/value pairs of name:[Marks] for a list of students. Print the average of the marks array for the student name provided, showing 2 places after the decimal**\n",
    "\n",
    "    marks key: value pairs are\n",
    "    ‘alpha’:[20, 30, 40]\n",
    "    ‘beta’:[30, 50, 70]"
   ]
  },
  {
   "cell_type": "code",
   "execution_count": 12,
   "id": "cf760fb1",
   "metadata": {},
   "outputs": [
    {
     "name": "stdout",
     "output_type": "stream",
     "text": [
      "The average of the marks array for alpha is 30.00\n",
      "The average of the marks array for beta is 50.00\n"
     ]
    }
   ],
   "source": [
    "marks = {\n",
    "    'alpha': [20, 30, 40],\n",
    "    'beta': [30, 50, 70]\n",
    "}\n",
    "\n",
    "student_name = 'alpha'\n",
    "\n",
    "average = sum(marks[student_name]) / len(marks[student_name])\n",
    "\n",
    "\n",
    "print(f\"The average of the marks array for {student_name} is {average:.2f}\")\n",
    "\n",
    "student_name = 'beta'\n",
    "\n",
    "average = sum(marks[student_name]) / len(marks[student_name])\n",
    "\n",
    "\n",
    "print(f\"The average of the marks array for {student_name} is {average:.2f}\")\n"
   ]
  },
  {
   "cell_type": "markdown",
   "id": "216496d5",
   "metadata": {},
   "source": [
    "**6.You are given a string and your task is to swap cases. In other words, convert all lowercase letters to uppercase letters and vice versa.**"
   ]
  },
  {
   "cell_type": "code",
   "execution_count": 11,
   "id": "95bd5cdb",
   "metadata": {},
   "outputs": [
    {
     "name": "stdout",
     "output_type": "stream",
     "text": [
      "hellow\n",
      "HELLOW\n"
     ]
    }
   ],
   "source": [
    "str=\"heLloW\"\n",
    "print(str.lower())\n",
    "print(str.upper())"
   ]
  },
  {
   "cell_type": "markdown",
   "id": "b1825c82",
   "metadata": {},
   "source": [
    "**7.You are given a string. Split the string on a ” ” (space) delimiter and join using a – hyphen**"
   ]
  },
  {
   "cell_type": "code",
   "execution_count": 13,
   "id": "1ab3472b",
   "metadata": {},
   "outputs": [
    {
     "name": "stdout",
     "output_type": "stream",
     "text": [
      "Hello-All-Good-Morning\n"
     ]
    }
   ],
   "source": [
    "string = \"Hello All Good Morning\"\n",
    "h_string = \"-\".join(string.split())\n",
    "print(h_string)"
   ]
  },
  {
   "cell_type": "markdown",
   "id": "3ed74aa8",
   "metadata": {},
   "source": [
    "**8.In this challenge, the user enters a string and a substring. You have to print the number of times that the substring occurs in the given string. String traversal will take place from left to right, not from right to left**"
   ]
  },
  {
   "cell_type": "code",
   "execution_count": 14,
   "id": "6de76b96",
   "metadata": {},
   "outputs": [
    {
     "name": "stdout",
     "output_type": "stream",
     "text": [
      "The substring 'is' occurs 1 times in the string 'Good Morning All, today is monday'\n"
     ]
    }
   ],
   "source": [
    "string = \"Good Morning All, today is monday\"\n",
    "substring = \"is\"\n",
    "\n",
    "count = string.count(substring)\n",
    "\n",
    "print(f\"The substring '{substring}' occurs {count} times in the string '{string}'\")\n"
   ]
  },
  {
   "cell_type": "markdown",
   "id": "d5787b6a",
   "metadata": {},
   "source": [
    "**9.You are given a string S.\n",
    "Your task is to find out if the string S contains: alphanumeric characters, alphabetical characters, digits, lowercase and uppercase characters.**"
   ]
  },
  {
   "cell_type": "code",
   "execution_count": 16,
   "id": "3ca026c3",
   "metadata": {},
   "outputs": [
    {
     "name": "stdout",
     "output_type": "stream",
     "text": [
      "True\n",
      "False\n",
      "False\n",
      "False\n",
      "True\n"
     ]
    }
   ],
   "source": [
    "s = \"OMEN2000\"\n",
    "print(s.isalnum())\n",
    "print(s.isalpha())\n",
    "print(s.isdigit())\n",
    "print(s.islower())\n",
    "print(s.isupper())"
   ]
  },
  {
   "cell_type": "markdown",
   "id": "0a155995",
   "metadata": {},
   "source": [
    "**10.Write a Python program to check that a string contains only a certain set of characters (in this case a-z, A-Z and 0-9)**"
   ]
  },
  {
   "cell_type": "code",
   "execution_count": 17,
   "id": "763eb9a6",
   "metadata": {},
   "outputs": [
    {
     "name": "stdout",
     "output_type": "stream",
     "text": [
      "True\n"
     ]
    }
   ],
   "source": [
    "s = \"abcABC123\"\n",
    "allowed_characters = set(\"abcdefghijklmnopqrstuvwxyzABCDEFGHIJKLMNOPQRSTUVWXYZ0123456789\")\n",
    "print(all(char in allowed_characters for char in s))"
   ]
  },
  {
   "cell_type": "markdown",
   "id": "da531cc2",
   "metadata": {},
   "source": [
    "**11.Write a Python program that matches a string that has an a followed by zero or more b's**"
   ]
  },
  {
   "cell_type": "code",
   "execution_count": 18,
   "id": "5107851f",
   "metadata": {},
   "outputs": [
    {
     "name": "stdout",
     "output_type": "stream",
     "text": [
      "True\n"
     ]
    }
   ],
   "source": [
    "import re\n",
    "pattern = re.compile(r'ab*')\n",
    "match = pattern.match(\"abb\")\n",
    "print(bool(match))"
   ]
  },
  {
   "cell_type": "markdown",
   "id": "61b5ca4c",
   "metadata": {},
   "source": [
    "**12.Write a Python program that matches a string that has an a followed by one or more b's**"
   ]
  },
  {
   "cell_type": "code",
   "execution_count": 19,
   "id": "7208c2cd",
   "metadata": {},
   "outputs": [
    {
     "name": "stdout",
     "output_type": "stream",
     "text": [
      "The following words were found in the string: ['ab', 'abb', 'abbb', 'abbbb']\n"
     ]
    }
   ],
   "source": [
    "string = \"ab abb abbb ac abbbb\"\n",
    "found_words = []\n",
    "words = string.split()\n",
    "for word in words:\n",
    "    if len(word) >= 2 and word[0] == \"a\" and word[1:].count(\"b\") >= 1:\n",
    "        found_words.append(word)\n",
    "\n",
    "if found_words:\n",
    "    print(f\"The following words were found in the string: {found_words}\")\n",
    "else:\n",
    "    print(\"None of the searched words were found in the string.\")"
   ]
  },
  {
   "cell_type": "markdown",
   "id": "5d5379fa",
   "metadata": {},
   "source": [
    "**13.Write a Python program that matches a string that has an a followed by three 'b'**"
   ]
  },
  {
   "cell_type": "code",
   "execution_count": 20,
   "id": "10bb557b",
   "metadata": {},
   "outputs": [
    {
     "name": "stdout",
     "output_type": "stream",
     "text": [
      "The following words were found in the string: ['abbb']\n"
     ]
    }
   ],
   "source": [
    "string = \"ab abb abbb ac abbbb\"\n",
    "found_words = []\n",
    "words = string.split()\n",
    "for word in words:\n",
    "    if len(word) == 4 and word[0] == \"a\" and word[1:].count(\"b\") == 3:\n",
    "        found_words.append(word)\n",
    "\n",
    "if found_words:\n",
    "    print(f\"The following words were found in the string: {found_words}\")\n",
    "else:\n",
    "    print(\"None of the searched words were found in the string.\")"
   ]
  },
  {
   "cell_type": "markdown",
   "id": "9088cfca",
   "metadata": {},
   "source": [
    "**14.Write a Python program that matches a string that has an a followed by two to three 'b'**"
   ]
  },
  {
   "cell_type": "code",
   "execution_count": 21,
   "id": "987b2be0",
   "metadata": {},
   "outputs": [
    {
     "name": "stdout",
     "output_type": "stream",
     "text": [
      "The following words were found in the string: ['abb', 'abbb']\n"
     ]
    }
   ],
   "source": [
    "string = \"ab abb abbb ac abbbb\"\n",
    "found_words = []\n",
    "words = string.split()\n",
    "for word in words:\n",
    "    if len(word) >= 2 and word[0] == \"a\" and word[1:].count(\"b\") in [2, 3]:\n",
    "        found_words.append(word)\n",
    "\n",
    "if found_words:\n",
    "    print(f\"The following words were found in the string: {found_words}\")\n",
    "else:\n",
    "    print(\"None of the searched words were found in the string.\")"
   ]
  },
  {
   "cell_type": "markdown",
   "id": "384723a0",
   "metadata": {},
   "source": [
    "**15.Write a Python program to find sequences of lowercase letters joined with a underscore.**"
   ]
  },
  {
   "cell_type": "code",
   "execution_count": 22,
   "id": "c14c3190",
   "metadata": {},
   "outputs": [
    {
     "name": "stdout",
     "output_type": "stream",
     "text": [
      "The following words were found in the string: ['how', 'are', 'you']\n"
     ]
    }
   ],
   "source": [
    "string = \"Good_Morning_All_how_are_you\"\n",
    "words = string.split(\"_\")\n",
    "found_words = []\n",
    "for word in words:\n",
    "    if word.islower():\n",
    "        found_words.append(word)\n",
    "\n",
    "if found_words:\n",
    "    print(f\"The following words were found in the string: {found_words}\")\n",
    "else:\n",
    "    print(\"None of the searched words were found in the string.\")"
   ]
  },
  {
   "cell_type": "markdown",
   "id": "91c74381",
   "metadata": {},
   "source": [
    "**16.Write a Python program to find the sequences of one upper case letter followed by lower case letters.**"
   ]
  },
  {
   "cell_type": "code",
   "execution_count": 23,
   "id": "f6ebb98b",
   "metadata": {},
   "outputs": [
    {
     "name": "stdout",
     "output_type": "stream",
     "text": [
      "The following words were found in the string: ['Hello', 'Everyone', 'Good', 'Morning,']\n"
     ]
    }
   ],
   "source": [
    "string = \"Hello Everyone Good Morning, how are you\"\n",
    "words = string.split()\n",
    "found_words = []\n",
    "for word in words:\n",
    "    if len(word) > 1 and word[0].isupper() and word[1:].islower():\n",
    "        found_words.append(word)\n",
    "\n",
    "if found_words:\n",
    "    print(f\"The following words were found in the string: {found_words}\")\n",
    "else:\n",
    "    print(\"None of the searched words were found in the string.\")"
   ]
  },
  {
   "cell_type": "markdown",
   "id": "5d889863",
   "metadata": {},
   "source": [
    "**17.Write a Python program that matches a string that has an 'a' followed by anything, ending in 'b'.**"
   ]
  },
  {
   "cell_type": "code",
   "execution_count": 24,
   "id": "970eaaa7",
   "metadata": {},
   "outputs": [
    {
     "name": "stdout",
     "output_type": "stream",
     "text": [
      "The string 'abcdb' matches the pattern.\n"
     ]
    }
   ],
   "source": [
    "s = \"abcdb\"\n",
    "if s.startswith('a') and s.endswith('b'):\n",
    "    print(f\"The string '{s}' matches the pattern.\")\n",
    "else:\n",
    "    print(f\"The string '{s}' does not match the pattern.\")"
   ]
  },
  {
   "cell_type": "markdown",
   "id": "c8b76e07",
   "metadata": {},
   "source": [
    "**18. Write a Python program that matches a word at the beginning of a string.**"
   ]
  },
  {
   "cell_type": "code",
   "execution_count": 26,
   "id": "f2900662",
   "metadata": {},
   "outputs": [
    {
     "name": "stdout",
     "output_type": "stream",
     "text": [
      "The word at the beginning of 'Very Good morning Everyone' is 'Very'.\n"
     ]
    }
   ],
   "source": [
    "s = \"Very Good morning Everyone\"\n",
    "words = s.split()\n",
    "if words:\n",
    "    print(f\"The word at the beginning of '{s}' is '{words[0]}'.\")\n",
    "else:\n",
    "    print(f\"No words found in '{s}'.\")"
   ]
  },
  {
   "cell_type": "markdown",
   "id": "c72eed46",
   "metadata": {},
   "source": [
    "**19.Write a Python program that matches a word at the end of string, with optional punctuation.**"
   ]
  },
  {
   "cell_type": "code",
   "execution_count": 27,
   "id": "037a9cd6",
   "metadata": {},
   "outputs": [
    {
     "name": "stdout",
     "output_type": "stream",
     "text": [
      "The string 'abcdb' matches the pattern.\n"
     ]
    }
   ],
   "source": [
    "s = \"abcdb\"\n",
    "if s[0] == 'a' and s[-1] == 'b':\n",
    "    print(f\"The string '{s}' matches the pattern.\")\n",
    "else:\n",
    "    print(f\"The string '{s}' does not match the pattern.\")"
   ]
  },
  {
   "cell_type": "markdown",
   "id": "43a102c4",
   "metadata": {},
   "source": [
    "**20.Write a Python program that matches a word containing 'z', not at the start or end of the word.**"
   ]
  },
  {
   "cell_type": "code",
   "execution_count": 31,
   "id": "0ff705a5",
   "metadata": {},
   "outputs": [
    {
     "name": "stdout",
     "output_type": "stream",
     "text": [
      "The words containing 'z', not at the start or end of the word in 'This iszzzz string' are:\n",
      "iszzzz\n"
     ]
    }
   ],
   "source": [
    "s = \"This iszzzz string\"\n",
    "words = s.split()\n",
    "matches = []\n",
    "for word in words:\n",
    "    if 'z' in word[1:-1]:\n",
    "        matches.append(word)\n",
    "if matches:\n",
    "    print(f\"The words containing 'z', not at the start or end of the word in '{s}' are:\")\n",
    "    for match in matches:\n",
    "        print(match)\n",
    "else:\n",
    "    print(f\"No words containing 'z', not at the start or end of the word found in '{s}'.\")"
   ]
  },
  {
   "cell_type": "markdown",
   "id": "b8ecf397",
   "metadata": {},
   "source": [
    "**21. Write a Python program where a string will start with a specific number.**"
   ]
  },
  {
   "cell_type": "code",
   "execution_count": 32,
   "id": "293ed77d",
   "metadata": {},
   "outputs": [
    {
     "name": "stdout",
     "output_type": "stream",
     "text": [
      "The string '52345861' starts with the number 5.\n"
     ]
    }
   ],
   "source": [
    "s = \"52345861\"\n",
    "if s.startswith('5'):\n",
    "    print(f\"The string '{s}' starts with the number 5.\")\n",
    "else:\n",
    "    print(f\"The string '{s}' does not start with the number 5.\")"
   ]
  },
  {
   "cell_type": "markdown",
   "id": "35e57aee",
   "metadata": {},
   "source": [
    "**22.Write a Python program to check for a number at the end of a string.**"
   ]
  },
  {
   "cell_type": "code",
   "execution_count": 33,
   "id": "c6c71667",
   "metadata": {},
   "outputs": [
    {
     "name": "stdout",
     "output_type": "stream",
     "text": [
      "The string 'good morning 77' ends with a number.\n"
     ]
    }
   ],
   "source": [
    "s = \"good morning 77\"\n",
    "if s[-1].isdigit():\n",
    "    print(f\"The string '{s}' ends with a number.\")\n",
    "else:\n",
    "    print(f\"The string '{s}' does not end with a number.\")"
   ]
  },
  {
   "cell_type": "markdown",
   "id": "b1bd8587",
   "metadata": {},
   "source": [
    "**23.Write a Python program to search the numbers (0-9) of length between 1 to 3 in a given string.**"
   ]
  },
  {
   "cell_type": "code",
   "execution_count": 34,
   "id": "82a27b5a",
   "metadata": {},
   "outputs": [
    {
     "name": "stdout",
     "output_type": "stream",
     "text": [
      "The numbers of length between 1 to 3 in the given string are: ['964', '496']\n"
     ]
    }
   ],
   "source": [
    "numbers = []\n",
    "current_number = \"\"\n",
    "string = \"7767 good morning 964 all 496\"\n",
    "for char in string:\n",
    "    if char.isdigit():\n",
    "        current_number += char\n",
    "    elif current_number:\n",
    "        if len(current_number) <= 3:\n",
    "            numbers.append(current_number)\n",
    "        current_number = \"\"\n",
    "if current_number and len(current_number) <= 3:\n",
    "    numbers.append(current_number)\n",
    "\n",
    "print(f\"The numbers of length between 1 to 3 in the given string are: {numbers}\")"
   ]
  },
  {
   "cell_type": "markdown",
   "id": "423fce4e",
   "metadata": {},
   "source": [
    "**24.Write a Python program to search some literals strings in a string. Go to the editor Sample text : 'The quick brown fox jumps over the lazy dog.' Searched words : 'fox', 'dog', 'horse'**"
   ]
  },
  {
   "cell_type": "code",
   "execution_count": 35,
   "id": "66220372",
   "metadata": {},
   "outputs": [
    {
     "name": "stdout",
     "output_type": "stream",
     "text": [
      "The following words were found in the string: ['fox', 'dog']\n"
     ]
    }
   ],
   "source": [
    "string = \"The quick brown fox jumps over the lazy dog.\"\n",
    "searched_words = [\"fox\", \"dog\", \"horse\"]\n",
    "found_words = []\n",
    "for word in searched_words:\n",
    "    if word in string:\n",
    "        found_words.append(word)\n",
    "\n",
    "if found_words:\n",
    "    print(f\"The following words were found in the string: {found_words}\")\n",
    "else:\n",
    "    print(\"None of the searched words were found in the string.\")"
   ]
  },
  {
   "cell_type": "markdown",
   "id": "8e2b71ef",
   "metadata": {},
   "source": [
    "**25.Write a Python program to search a literals string in a string and also find the location within the original string where the pattern occurs**"
   ]
  },
  {
   "cell_type": "code",
   "execution_count": 36,
   "id": "2a60be33",
   "metadata": {},
   "outputs": [
    {
     "name": "stdout",
     "output_type": "stream",
     "text": [
      "The pattern 'fox' was found in the string at index 16.\n"
     ]
    }
   ],
   "source": [
    "string = \"The quick brown fox jumps over the lazy dog.\"\n",
    "pattern = \"fox\"\n",
    "index = string.find(pattern)\n",
    "if index != -1:\n",
    "    print(f\"The pattern '{pattern}' was found in the string at index {index}.\")\n",
    "else:\n",
    "    print(f\"The pattern '{pattern}' was not found in the string.\")"
   ]
  },
  {
   "cell_type": "markdown",
   "id": "effcafe4",
   "metadata": {},
   "source": [
    "**26.Write a Python program to find the substrings within a string.**\n",
    "\n",
    "    Sample text : 'Python exercises, PHP exercises, C# exercises'\n",
    "    Pattern : 'exercises'\n",
    "    Note: There are two instances of exercises in the input string"
   ]
  },
  {
   "cell_type": "code",
   "execution_count": 46,
   "id": "56a889b2",
   "metadata": {},
   "outputs": [
    {
     "name": "stdout",
     "output_type": "stream",
     "text": [
      "The following words were found in the string: ['exercises', 'exercises', 'exercises']\n"
     ]
    }
   ],
   "source": [
    "string = \"Python exercises, PHP exercises, C# exercises\"\n",
    "pattern = \"exercises\"\n",
    "found_words = []\n",
    "index = 0\n",
    "while index < len(string):\n",
    "    index = string.find(pattern, index)\n",
    "    if index == -1:\n",
    "        break\n",
    "    found_words.append(pattern)\n",
    "    index += len(pattern)\n",
    "\n",
    "if found_words:\n",
    "    print(f\"The following words were found in the string: {found_words}\")\n",
    "else:\n",
    "    print(\"None of the searched words were found in the string.\")\n"
   ]
  },
  {
   "cell_type": "markdown",
   "id": "2d5daeb9",
   "metadata": {},
   "source": [
    "**27. Write a Python program to find the occurrence and position of the substrings within a string**"
   ]
  },
  {
   "cell_type": "code",
   "execution_count": 38,
   "id": "742c0873",
   "metadata": {},
   "outputs": [
    {
     "name": "stdout",
     "output_type": "stream",
     "text": [
      "The following words were found in the string:\n",
      "'exercises' found at index 7\n",
      "'exercises' found at index 22\n",
      "'exercises' found at index 36\n"
     ]
    }
   ],
   "source": [
    "string = \"Python exercises, PHP exercises, C# exercises\"\n",
    "pattern = \"exercises\"\n",
    "found_words = [(pattern, index) for index in range(len(string)) if string.startswith(pattern, index)]\n",
    "\n",
    "if found_words:\n",
    "    print(f\"The following words were found in the string:\")\n",
    "    for word, index in found_words:\n",
    "        print(f\"'{word}' found at index {index}\")\n",
    "else:\n",
    "    print(\"None of the searched words were found in the string.\")"
   ]
  },
  {
   "cell_type": "markdown",
   "id": "fcfce68b",
   "metadata": {},
   "source": [
    "**28. Write a Python program to replace whitespaces with an underscore and vice versa.**"
   ]
  },
  {
   "cell_type": "code",
   "execution_count": 41,
   "id": "c57af5cf",
   "metadata": {},
   "outputs": [
    {
     "name": "stdout",
     "output_type": "stream",
     "text": [
      "Class_of_Machine_Learning\n",
      "Class of Machine Learning\n"
     ]
    }
   ],
   "source": [
    "text = 'Class of Machine Learning'\n",
    "text = text.replace(\" \", \"_\")\n",
    "print(text)\n",
    "text = text.replace(\"_\", \" \")\n",
    "print(text)"
   ]
  },
  {
   "cell_type": "markdown",
   "id": "31b1dd35",
   "metadata": {},
   "source": [
    "**29. Write a Python program to extract year, month and date from a an url.**"
   ]
  },
  {
   "cell_type": "code",
   "execution_count": 48,
   "id": "91d4e208",
   "metadata": {},
   "outputs": [
    {
     "name": "stdout",
     "output_type": "stream",
     "text": [
      "The year is 2024, the month is 01, and the day is 08.\n"
     ]
    }
   ],
   "source": [
    "import re\n",
    "def extract_date(url):\n",
    "    return re.findall(r'/(\\d{4})/(\\d{1,2})/(\\d{1,2})/', url)\n",
    "\n",
    "url = \"https://www.example.com/2024/01/08/index.html\"\n",
    "date = extract_date(url)\n",
    "print(f\"The year is {date[0][0]}, the month is {date[0][1]}, and the day is {date[0][2]}.\")"
   ]
  },
  {
   "cell_type": "markdown",
   "id": "dfbfe2d2",
   "metadata": {},
   "source": [
    "**30.Write a Python program to convert a date of yyyy-mm-dd format to dd-mm-yyyy format.**"
   ]
  },
  {
   "cell_type": "code",
   "execution_count": 44,
   "id": "38f1c837",
   "metadata": {},
   "outputs": [
    {
     "name": "stdout",
     "output_type": "stream",
     "text": [
      "The original date is 2024-01-08 and the new date is 08-01-2024.\n"
     ]
    }
   ],
   "source": [
    "date = \"2024-01-08\"\n",
    "year, month, day = date.split(\"-\")\n",
    "new_date = f\"{day}-{month}-{year}\"\n",
    "print(f\"The original date is {date} and the new date is {new_date}.\")"
   ]
  }
 ],
 "metadata": {
  "kernelspec": {
   "display_name": "Python 3 (ipykernel)",
   "language": "python",
   "name": "python3"
  },
  "language_info": {
   "codemirror_mode": {
    "name": "ipython",
    "version": 3
   },
   "file_extension": ".py",
   "mimetype": "text/x-python",
   "name": "python",
   "nbconvert_exporter": "python",
   "pygments_lexer": "ipython3",
   "version": "3.9.13"
  }
 },
 "nbformat": 4,
 "nbformat_minor": 5
}
